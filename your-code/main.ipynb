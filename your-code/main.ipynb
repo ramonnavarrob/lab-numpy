{
 "cells": [
  {
   "cell_type": "markdown",
   "metadata": {},
   "source": [
    "# Intrduction to NumPy\n",
    "\n",
    "\n",
    "#### 1. Import NumPy under the name np."
   ]
  },
  {
   "cell_type": "code",
   "execution_count": 22,
   "metadata": {},
   "outputs": [],
   "source": [
    "import numpy as np"
   ]
  },
  {
   "cell_type": "markdown",
   "metadata": {},
   "source": [
    "#### 2. Print your NumPy version."
   ]
  },
  {
   "cell_type": "code",
   "execution_count": 23,
   "metadata": {},
   "outputs": [
    {
     "name": "stdout",
     "output_type": "stream",
     "text": [
      "1.16.5\n"
     ]
    }
   ],
   "source": [
    "print(np.__version__)"
   ]
  },
  {
   "cell_type": "markdown",
   "metadata": {},
   "source": [
    "#### 3. Generate a 2x3x5 3-dimensional array with random values. Assign the array to variable *a*.\n",
    "**Challenge**: there are at least three easy ways that use numpy to generate random arrays. How many ways can you find?"
   ]
  },
  {
   "cell_type": "code",
   "execution_count": 24,
   "metadata": {},
   "outputs": [],
   "source": [
    "a1 = np.random.random((2,3,5))"
   ]
  },
  {
   "cell_type": "code",
   "execution_count": 25,
   "metadata": {},
   "outputs": [],
   "source": [
    "a2 = np.random.randn(2,3,5)"
   ]
  },
  {
   "cell_type": "code",
   "execution_count": 26,
   "metadata": {},
   "outputs": [],
   "source": [
    "a3 = np.random.rand(2,3,5)"
   ]
  },
  {
   "cell_type": "markdown",
   "metadata": {},
   "source": [
    "#### 4. Print *a*.\n"
   ]
  },
  {
   "cell_type": "code",
   "execution_count": 28,
   "metadata": {},
   "outputs": [
    {
     "data": {
      "text/plain": [
       "array([[[0.35461573, 0.50645014, 0.83226234, 0.62493839, 0.85054448],\n",
       "        [0.40795889, 0.12904187, 0.06578666, 0.8827195 , 0.92024542],\n",
       "        [0.75400685, 0.50702307, 0.07649229, 0.50950099, 0.17486169]],\n",
       "\n",
       "       [[0.75047173, 0.10144306, 0.056303  , 0.23906338, 0.32869919],\n",
       "        [0.81544956, 0.02787304, 0.40276957, 0.04233685, 0.41691641],\n",
       "        [0.44523974, 0.20794322, 0.31355479, 0.23053936, 0.45773162]]])"
      ]
     },
     "execution_count": 28,
     "metadata": {},
     "output_type": "execute_result"
    }
   ],
   "source": [
    "a1"
   ]
  },
  {
   "cell_type": "code",
   "execution_count": 29,
   "metadata": {
    "scrolled": true
   },
   "outputs": [
    {
     "data": {
      "text/plain": [
       "array([[[ 0.79607152, -2.5820789 ,  2.22564221,  0.71989885,\n",
       "          1.61681808],\n",
       "        [ 0.01154049, -0.6812701 , -0.69451962, -0.01800887,\n",
       "          0.20291372],\n",
       "        [-0.26042888, -0.25013848, -0.48540157, -0.1856464 ,\n",
       "          1.88097126]],\n",
       "\n",
       "       [[-1.22213884, -1.47311941,  1.12066601, -0.6316271 ,\n",
       "         -0.44273505],\n",
       "        [-2.27159969, -0.7809889 , -1.68385695,  2.12384242,\n",
       "         -0.08383203],\n",
       "        [-0.70851729,  0.29434137,  0.17707515, -0.36244323,\n",
       "         -0.47899913]]])"
      ]
     },
     "execution_count": 29,
     "metadata": {},
     "output_type": "execute_result"
    }
   ],
   "source": [
    "a2"
   ]
  },
  {
   "cell_type": "code",
   "execution_count": 30,
   "metadata": {},
   "outputs": [
    {
     "data": {
      "text/plain": [
       "array([[[0.01030365, 0.30482141, 0.39008555, 0.90314055, 0.10865074],\n",
       "        [0.5590764 , 0.14056585, 0.7913598 , 0.72417969, 0.93948495],\n",
       "        [0.74360876, 0.9373515 , 0.74393362, 0.60723088, 0.88711228]],\n",
       "\n",
       "       [[0.92006023, 0.08145174, 0.0966278 , 0.30675272, 0.71432991],\n",
       "        [0.38447575, 0.5289977 , 0.12493283, 0.07170456, 0.47541091],\n",
       "        [0.42261749, 0.33838152, 0.91764486, 0.52326666, 0.40136883]]])"
      ]
     },
     "execution_count": 30,
     "metadata": {},
     "output_type": "execute_result"
    }
   ],
   "source": [
    "a3"
   ]
  },
  {
   "cell_type": "markdown",
   "metadata": {},
   "source": [
    "#### 5. Create a 5x2x3 3-dimensional array with all values equaling 1. Assign the array to variable *b*."
   ]
  },
  {
   "cell_type": "code",
   "execution_count": 31,
   "metadata": {},
   "outputs": [],
   "source": [
    "b = np.ones((5,2,3))"
   ]
  },
  {
   "cell_type": "markdown",
   "metadata": {},
   "source": [
    "#### 6. Print *b*.\n"
   ]
  },
  {
   "cell_type": "code",
   "execution_count": 32,
   "metadata": {},
   "outputs": [
    {
     "data": {
      "text/plain": [
       "array([[[1., 1., 1.],\n",
       "        [1., 1., 1.]],\n",
       "\n",
       "       [[1., 1., 1.],\n",
       "        [1., 1., 1.]],\n",
       "\n",
       "       [[1., 1., 1.],\n",
       "        [1., 1., 1.]],\n",
       "\n",
       "       [[1., 1., 1.],\n",
       "        [1., 1., 1.]],\n",
       "\n",
       "       [[1., 1., 1.],\n",
       "        [1., 1., 1.]]])"
      ]
     },
     "execution_count": 32,
     "metadata": {},
     "output_type": "execute_result"
    }
   ],
   "source": [
    "b"
   ]
  },
  {
   "cell_type": "markdown",
   "metadata": {},
   "source": [
    "#### 7. Do *a* and *b* have the same size? How do you prove that in Python code?"
   ]
  },
  {
   "cell_type": "code",
   "execution_count": 33,
   "metadata": {},
   "outputs": [
    {
     "data": {
      "text/plain": [
       "True"
      ]
     },
     "execution_count": 33,
     "metadata": {},
     "output_type": "execute_result"
    }
   ],
   "source": [
    "a1.size == b.size"
   ]
  },
  {
   "cell_type": "markdown",
   "metadata": {},
   "source": [
    "#### 8. Are you able to add *a* and *b*? Why or why not?\n"
   ]
  },
  {
   "cell_type": "code",
   "execution_count": 34,
   "metadata": {},
   "outputs": [
    {
     "ename": "ValueError",
     "evalue": "operands could not be broadcast together with shapes (2,3,5) (5,2,3) ",
     "output_type": "error",
     "traceback": [
      "\u001b[1;31m---------------------------------------------------------------------------\u001b[0m",
      "\u001b[1;31mValueError\u001b[0m                                Traceback (most recent call last)",
      "\u001b[1;32m<ipython-input-34-eecb2478fe6b>\u001b[0m in \u001b[0;36m<module>\u001b[1;34m\u001b[0m\n\u001b[1;32m----> 1\u001b[1;33m \u001b[0ma1\u001b[0m \u001b[1;33m+\u001b[0m \u001b[0mb\u001b[0m\u001b[1;33m\u001b[0m\u001b[1;33m\u001b[0m\u001b[0m\n\u001b[0m\u001b[0;32m      2\u001b[0m \u001b[1;31m#you can't add two arrays with different structures\u001b[0m\u001b[1;33m\u001b[0m\u001b[1;33m\u001b[0m\u001b[1;33m\u001b[0m\u001b[0m\n",
      "\u001b[1;31mValueError\u001b[0m: operands could not be broadcast together with shapes (2,3,5) (5,2,3) "
     ]
    }
   ],
   "source": [
    "a1 + b\n",
    "#you can't add two arrays with different structures"
   ]
  },
  {
   "cell_type": "markdown",
   "metadata": {},
   "source": [
    "#### 9. Transpose *b* so that it has the same structure of *a* (i.e. become a 2x3x5 array). Assign the transposed array to variable *c*."
   ]
  },
  {
   "cell_type": "code",
   "execution_count": 35,
   "metadata": {},
   "outputs": [],
   "source": [
    "c = b.reshape(2,3,5)"
   ]
  },
  {
   "cell_type": "markdown",
   "metadata": {},
   "source": [
    "#### 10. Try to add *a* and *c*. Now it should work. Assign the sum to variable *d*. But why does it work now?"
   ]
  },
  {
   "cell_type": "code",
   "execution_count": 36,
   "metadata": {},
   "outputs": [],
   "source": [
    "d = a1 + c\n",
    "#reshaping arrays to other's with same structure, makes them \"equal\"."
   ]
  },
  {
   "cell_type": "markdown",
   "metadata": {},
   "source": [
    "#### 11. Print *a* and *d*. Notice the difference and relation of the two array in terms of the values? Explain."
   ]
  },
  {
   "cell_type": "code",
   "execution_count": 37,
   "metadata": {},
   "outputs": [
    {
     "name": "stdout",
     "output_type": "stream",
     "text": [
      "[[[0.35461573 0.50645014 0.83226234 0.62493839 0.85054448]\n",
      "  [0.40795889 0.12904187 0.06578666 0.8827195  0.92024542]\n",
      "  [0.75400685 0.50702307 0.07649229 0.50950099 0.17486169]]\n",
      "\n",
      " [[0.75047173 0.10144306 0.056303   0.23906338 0.32869919]\n",
      "  [0.81544956 0.02787304 0.40276957 0.04233685 0.41691641]\n",
      "  [0.44523974 0.20794322 0.31355479 0.23053936 0.45773162]]]\n",
      "[[[1.35461573 1.50645014 1.83226234 1.62493839 1.85054448]\n",
      "  [1.40795889 1.12904187 1.06578666 1.8827195  1.92024542]\n",
      "  [1.75400685 1.50702307 1.07649229 1.50950099 1.17486169]]\n",
      "\n",
      " [[1.75047173 1.10144306 1.056303   1.23906338 1.32869919]\n",
      "  [1.81544956 1.02787304 1.40276957 1.04233685 1.41691641]\n",
      "  [1.44523974 1.20794322 1.31355479 1.23053936 1.45773162]]]\n"
     ]
    }
   ],
   "source": [
    "print(a1)\n",
    "print(d)"
   ]
  },
  {
   "cell_type": "markdown",
   "metadata": {},
   "source": [
    "#### 12. Multiply *a* and *c*. Assign the result to *e*."
   ]
  },
  {
   "cell_type": "code",
   "execution_count": 38,
   "metadata": {},
   "outputs": [
    {
     "data": {
      "text/plain": [
       "array([[[0.35461573, 0.50645014, 0.83226234, 0.62493839, 0.85054448],\n",
       "        [0.40795889, 0.12904187, 0.06578666, 0.8827195 , 0.92024542],\n",
       "        [0.75400685, 0.50702307, 0.07649229, 0.50950099, 0.17486169]],\n",
       "\n",
       "       [[0.75047173, 0.10144306, 0.056303  , 0.23906338, 0.32869919],\n",
       "        [0.81544956, 0.02787304, 0.40276957, 0.04233685, 0.41691641],\n",
       "        [0.44523974, 0.20794322, 0.31355479, 0.23053936, 0.45773162]]])"
      ]
     },
     "execution_count": 38,
     "metadata": {},
     "output_type": "execute_result"
    }
   ],
   "source": [
    "e = a1 * c\n",
    "e"
   ]
  },
  {
   "cell_type": "markdown",
   "metadata": {},
   "source": [
    "#### 13. Does *e* equal to *a*? Why or why not?\n"
   ]
  },
  {
   "cell_type": "code",
   "execution_count": 39,
   "metadata": {},
   "outputs": [
    {
     "data": {
      "text/plain": [
       "array([[[ True,  True,  True,  True,  True],\n",
       "        [ True,  True,  True,  True,  True],\n",
       "        [ True,  True,  True,  True,  True]],\n",
       "\n",
       "       [[ True,  True,  True,  True,  True],\n",
       "        [ True,  True,  True,  True,  True],\n",
       "        [ True,  True,  True,  True,  True]]])"
      ]
     },
     "execution_count": 39,
     "metadata": {},
     "output_type": "execute_result"
    }
   ],
   "source": [
    "e == a1"
   ]
  },
  {
   "cell_type": "markdown",
   "metadata": {},
   "source": [
    "#### 14. Identify the max, min, and mean values in *d*. Assign those values to variables *d_max*, *d_min* and *d_mean*."
   ]
  },
  {
   "cell_type": "code",
   "execution_count": 20,
   "metadata": {},
   "outputs": [
    {
     "name": "stdout",
     "output_type": "stream",
     "text": [
      "1.4542931819528855\n",
      "1.9550153499810263\n",
      "1.0001443313485754\n"
     ]
    }
   ],
   "source": [
    "d_mean=np.mean(d)\n",
    "d_max=np.max(d)\n",
    "d_min=np.min(d)\n",
    "print(d_mean)\n",
    "print(d_max)\n",
    "print(d_min)"
   ]
  },
  {
   "cell_type": "markdown",
   "metadata": {},
   "source": [
    "#### 15. Now we want to label the values in *d*. First create an empty array *f* with the same shape (i.e. 2x3x5) as *d* using `np.empty`.\n"
   ]
  },
  {
   "cell_type": "code",
   "execution_count": 42,
   "metadata": {},
   "outputs": [],
   "source": [
    "f = np.empty((2,3,5))"
   ]
  },
  {
   "cell_type": "markdown",
   "metadata": {},
   "source": [
    "#### 16. Populate the values in *f*. \n",
    "\n",
    "For each value in *d*, if it's larger than *d_min* but smaller than *d_mean*, assign 25 to the corresponding value in *f*. If a value in *d* is larger than *d_mean* but smaller than *d_max*, assign 75 to the corresponding value in *f*. If a value equals to *d_mean*, assign 50 to the corresponding value in *f*. Assign 0 to the corresponding value(s) in *f* for *d_min* in *d*. Assign 100 to the corresponding value(s) in *f* for *d_max* in *d*. In the end, f should have only the following values: 0, 25, 50, 75, and 100.\n",
    "\n",
    "**Note**: you don't have to use Numpy in this question."
   ]
  },
  {
   "cell_type": "code",
   "execution_count": 43,
   "metadata": {},
   "outputs": [],
   "source": [
    "for x in d:\n",
    "    for m in x:\n",
    "        for n in m:\n",
    "            if n > d_min and n < d_mean:\n",
    "                f[np.where(d == n)] = 25\n",
    "            elif n > d_mean and n < d_max:\n",
    "                f[np.where(d == n)] = 75\n",
    "            elif n == d_mean:\n",
    "                f[np.where(d == n)] = 50\n",
    "            elif n == d_min:\n",
    "                f[np.where(d == n)] = 0\n",
    "            else:\n",
    "                f[np.where(d == n)] = 100"
   ]
  },
  {
   "cell_type": "markdown",
   "metadata": {},
   "source": [
    "#### 17. Print *d* and *f*. Do you have your expected *f*?\n",
    "For instance, if your *d* is:\n",
    "```python\n",
    "[[[1.85836099, 1.67064465, 1.62576044, 1.40243961, 1.88454931],\n",
    "[1.75354326, 1.69403643, 1.36729252, 1.61415071, 1.12104981],\n",
    "[1.72201435, 1.1862918 , 1.87078449, 1.7726778 , 1.88180042]],\n",
    "[[1.44747908, 1.31673383, 1.02000951, 1.52218947, 1.97066381],\n",
    "[1.79129243, 1.74983003, 1.96028037, 1.85166831, 1.65450881],\n",
    "[1.18068344, 1.9587381 , 1.00656599, 1.93402165, 1.73514584]]]\n",
    "```\n",
    "Your *f* should be:\n",
    "```python\n",
    "[[[ 75.,  75.,  75.,  25.,  75.],\n",
    "[ 75.,  75.,  25.,  25.,  25.],\n",
    "[ 75.,  25.,  75.,  75.,  75.]],\n",
    "[[ 25.,  25.,  25.,  25., 100.],\n",
    "[ 75.,  75.,  75.,  75.,  75.],\n",
    "[ 25.,  75.,   0.,  75.,  75.]]]\n",
    "```"
   ]
  },
  {
   "cell_type": "code",
   "execution_count": 45,
   "metadata": {},
   "outputs": [
    {
     "name": "stdout",
     "output_type": "stream",
     "text": [
      "\n",
      "Max: 1.9550153499810263\n",
      "Min: 1.0001443313485754\n",
      "Mean: 1.4542931819528855\n",
      "\n",
      "\n",
      "Array d:\n",
      "[[[1.35461573 1.50645014 1.83226234 1.62493839 1.85054448]\n",
      "  [1.40795889 1.12904187 1.06578666 1.8827195  1.92024542]\n",
      "  [1.75400685 1.50702307 1.07649229 1.50950099 1.17486169]]\n",
      "\n",
      " [[1.75047173 1.10144306 1.056303   1.23906338 1.32869919]\n",
      "  [1.81544956 1.02787304 1.40276957 1.04233685 1.41691641]\n",
      "  [1.44523974 1.20794322 1.31355479 1.23053936 1.45773162]]]\n",
      "\n",
      "\n",
      "Array f:\n",
      " [[[25. 75. 75. 75. 75.]\n",
      "  [25. 25. 25. 75. 75.]\n",
      "  [75. 75. 25. 75. 25.]]\n",
      "\n",
      " [[75. 25. 25. 25. 25.]\n",
      "  [75. 25. 25. 25. 25.]\n",
      "  [25. 25. 25. 25. 75.]]]\n"
     ]
    }
   ],
   "source": [
    "print(f\"\\nMax: {d_max}\\nMin: {d_min}\\nMean: {d_mean}\\n\\n\")\n",
    "print(f\"Array d:\\n{d}\\n\\n\")\n",
    "print(f\"Array f:\\n {f}\")"
   ]
  },
  {
   "cell_type": "markdown",
   "metadata": {},
   "source": [
    "#### 18. Bonus question: instead of using numbers (i.e. 0, 25, 50, 75, and 100), use string values  (\"A\", \"B\", \"C\", \"D\", and \"E\") to label the array elements. For the example above, the expected result is:\n",
    "\n",
    "```python\n",
    "[[[ 'D',  'D',  'D',  'B',  'D'],\n",
    "[ 'D',  'D',  'B',  'B',  'B'],\n",
    "[ 'D',  'B',  'D',  'D',  'D']],\n",
    "[[ 'B',  'B',  'B',  'B',  'E'],\n",
    "[ 'D',  'D',  'D',  'D',  'D'],\n",
    "[ 'B',  'D',   'A',  'D', 'D']]]\n",
    "```\n",
    "**Note**: you don't have to use Numpy in this question."
   ]
  },
  {
   "cell_type": "code",
   "execution_count": 50,
   "metadata": {},
   "outputs": [
    {
     "data": {
      "text/plain": [
       "array([[['B', 'D', 'D', 'D', 'D'],\n",
       "        ['B', 'B', 'B', 'D', 'D'],\n",
       "        ['D', 'D', 'B', 'D', 'B']],\n",
       "\n",
       "       [['D', 'B', 'B', 'B', 'B'],\n",
       "        ['D', 'B', 'B', 'B', 'B'],\n",
       "        ['B', 'B', 'B', 'B', 'D']]], dtype='<U1')"
      ]
     },
     "execution_count": 50,
     "metadata": {},
     "output_type": "execute_result"
    }
   ],
   "source": [
    "def populating_func_letters(element):\n",
    "    if element > d_min and element < d_mean:\n",
    "        return \"B\"\n",
    "    elif element > d_mean and element < d_max:\n",
    "        return \"D\"\n",
    "    elif element == d_mean:\n",
    "        return \"C\"\n",
    "    elif element == d_min:\n",
    "        return \"A\"\n",
    "    elif element == d_max:\n",
    "        return \"E\"\n",
    "    \n",
    "vectorized_function_letters = np.vectorize(populating_func_letters)\n",
    "f = vectorized_function_letters(d)\n",
    "f"
   ]
  }
 ],
 "metadata": {
  "kernelspec": {
   "display_name": "Python 3",
   "language": "python",
   "name": "python3"
  },
  "language_info": {
   "codemirror_mode": {
    "name": "ipython",
    "version": 3
   },
   "file_extension": ".py",
   "mimetype": "text/x-python",
   "name": "python",
   "nbconvert_exporter": "python",
   "pygments_lexer": "ipython3",
   "version": "3.7.4"
  }
 },
 "nbformat": 4,
 "nbformat_minor": 2
}
